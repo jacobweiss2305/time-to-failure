{
 "cells": [
  {
   "cell_type": "markdown",
   "metadata": {},
   "source": [
    "## Generating token to auth into jlab"
   ]
  },
  {
   "cell_type": "code",
   "execution_count": 1,
   "metadata": {},
   "outputs": [
    {
     "name": "stdout",
     "output_type": "stream",
     "text": [
      "token=e491f19271a30fba0eb435cbec78eb89c16741b268580f2f\n"
     ]
    }
   ],
   "source": [
    "# pip install kubernetes\n",
    "import re\n",
    "from kubernetes import client, config\n",
    "from kubernetes.client.rest import ApiException\n",
    "\n",
    "config.load_kube_config()\n",
    "namespace_name = \"jlab\"\n",
    "\n",
    "def get_pods():\n",
    "    v1 = client.CoreV1Api()\n",
    "    pod_list = v1.list_namespaced_pod(namespace=namespace_name)\n",
    "    return [pod.metadata.name for pod in pod_list.items][0]\n",
    "\n",
    "pod_name = get_pods()\n",
    "\n",
    "try:\n",
    "    api = client.CoreV1Api()\n",
    "    response = api.read_namespaced_pod_log(name=pod_name, namespace=namespace_name)\n",
    "    match = re.search(r'token=([0-9a-z]*)', response)\n",
    "    result = \"token=\" + match.group(1)\n",
    "    print(result)\n",
    "except ApiException as e:\n",
    "    print('Found exception in reading the logs:')\n",
    "    print(e)"
   ]
  }
 ],
 "metadata": {
  "kernelspec": {
   "display_name": "Python 3.8.9 64-bit ('3.8.9')",
   "language": "python",
   "name": "python3"
  },
  "language_info": {
   "codemirror_mode": {
    "name": "ipython",
    "version": 3
   },
   "file_extension": ".py",
   "mimetype": "text/x-python",
   "name": "python",
   "nbconvert_exporter": "python",
   "pygments_lexer": "ipython3",
   "version": "3.8.9"
  },
  "orig_nbformat": 4,
  "vscode": {
   "interpreter": {
    "hash": "5e93ede21f6ce52bee373e8f330074946f21ad20760661bda2d982a26ae00303"
   }
  }
 },
 "nbformat": 4,
 "nbformat_minor": 2
}
