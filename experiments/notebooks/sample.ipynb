{
 "cells": [
  {
   "cell_type": "markdown",
   "metadata": {},
   "source": [
    "## Preprocess"
   ]
  },
  {
   "cell_type": "code",
   "execution_count": 31,
   "metadata": {},
   "outputs": [
    {
     "name": "stdout",
     "output_type": "stream",
     "text": [
      "token=ac3f66251e8cd6e8d3d92382ef11412d11593a4ff7862b07\n"
     ]
    }
   ],
   "source": [
    "import os\n",
    "import re\n",
    "from kubernetes import client, config\n",
    "from kubernetes.client.rest import ApiException\n",
    "\n",
    "config.load_kube_config()\n",
    "namespace_name = \"jlab\"\n",
    "\n",
    "def get_pods():\n",
    "    v1 = client.CoreV1Api()\n",
    "    pod_list = v1.list_namespaced_pod(namespace=namespace_name)\n",
    "    return [pod.metadata.name for pod in pod_list.items][0]\n",
    "\n",
    "pod_name = get_pods()\n",
    "\n",
    "try:\n",
    "    api = client.CoreV1Api()\n",
    "    response = api.read_namespaced_pod_log(name=pod_name, namespace=namespace_name)\n",
    "    match = re.search(r'token=([0-9a-z]*)', response)\n",
    "    result = \"token=\" + match.group(1)\n",
    "    print(result)\n",
    "except ApiException as e:\n",
    "    print('Found exception in reading the logs:')\n",
    "    print(e)"
   ]
  },
  {
   "cell_type": "code",
   "execution_count": 19,
   "metadata": {},
   "outputs": [
    {
     "name": "stdout",
     "output_type": "stream",
     "text": [
      "NAME         TYPE           CLUSTER-IP    EXTERNAL-IP     PORT(S)        AGE\n",
      "jupyterlab   LoadBalancer   10.8.153.99   34.136.42.112   80:31326/TCP   48m\n"
     ]
    }
   ],
   "source": [
    "values = os.system(\"kubectl get services\")"
   ]
  },
  {
   "cell_type": "code",
   "execution_count": 20,
   "metadata": {},
   "outputs": [
    {
     "data": {
      "text/plain": [
       "0"
      ]
     },
     "execution_count": 20,
     "metadata": {},
     "output_type": "execute_result"
    }
   ],
   "source": [
    "values"
   ]
  },
  {
   "cell_type": "code",
   "execution_count": 7,
   "metadata": {},
   "outputs": [
    {
     "data": {
      "text/plain": [
       "['jupyterlab-6b79f5db4f-wqhlf']"
      ]
     },
     "execution_count": 7,
     "metadata": {},
     "output_type": "execute_result"
    }
   ],
   "source": [
    "def get_pods():\n",
    "    v1 = client.CoreV1Api()\n",
    "    pod_list = v1.list_namespaced_pod(namespace=namespace_name)\n",
    "    return [pod.metadata.name for pod in pod_list.items][0]\n",
    "\n",
    "get_pods()"
   ]
  },
  {
   "cell_type": "code",
   "execution_count": 5,
   "metadata": {},
   "outputs": [
    {
     "name": "stdout",
     "output_type": "stream",
     "text": [
      "Listing pods with their IPs:\n",
      "10.4.0.12\targo\targo-server-65dd65d67f-xj9nj\n",
      "10.4.2.5\targo\tworkflow-controller-858c5ddd84-dnhl5\n",
      "10.4.0.30\tjlab\tjupyterlab-6b79f5db4f-wqhlf\n",
      "10.4.0.3\tkube-system\tevent-exporter-gke-5dc976447f-cpvvc\n",
      "10.128.0.20\tkube-system\tfluentbit-gke-4ntfj\n",
      "10.128.0.21\tkube-system\tfluentbit-gke-4wk8w\n",
      "10.128.0.22\tkube-system\tfluentbit-gke-snh8k\n",
      "10.128.0.22\tkube-system\tgke-metrics-agent-94nwh\n",
      "10.128.0.20\tkube-system\tgke-metrics-agent-nljfm\n",
      "10.128.0.21\tkube-system\tgke-metrics-agent-q6z6b\n",
      "10.4.1.5\tkube-system\tkonnectivity-agent-6d8559d475-6snp4\n",
      "10.4.0.4\tkube-system\tkonnectivity-agent-6d8559d475-dfcqm\n",
      "10.4.2.3\tkube-system\tkonnectivity-agent-6d8559d475-wcnp7\n",
      "10.4.1.3\tkube-system\tkonnectivity-agent-autoscaler-658b588bb6-5sfbj\n",
      "10.4.1.6\tkube-system\tkube-dns-598f9895c6-qjvnt\n",
      "10.4.2.2\tkube-system\tkube-dns-598f9895c6-x4wz7\n",
      "10.4.1.2\tkube-system\tkube-dns-autoscaler-fbc66b884-r2gv6\n",
      "10.128.0.20\tkube-system\tkube-proxy-gke-cluster-1-default-pool-4ad5cec4-0mm9\n",
      "10.128.0.22\tkube-system\tkube-proxy-gke-cluster-1-default-pool-4ad5cec4-3p33\n",
      "10.128.0.21\tkube-system\tkube-proxy-gke-cluster-1-default-pool-4ad5cec4-nrk4\n",
      "10.4.0.2\tkube-system\tl7-default-backend-6b99559c7d-n7pfw\n",
      "10.4.0.5\tkube-system\tmetrics-server-v0.5.2-866bc7fbf8-cb9vm\n",
      "10.128.0.22\tkube-system\tpdcsi-node-6wtcl\n",
      "10.128.0.21\tkube-system\tpdcsi-node-g22hs\n",
      "10.128.0.20\tkube-system\tpdcsi-node-vxd2v\n"
     ]
    }
   ],
   "source": [
    "from kubernetes import client, config\n",
    "\n",
    "# Configs can be set in Configuration class directly or using helper utility\n",
    "config.load_kube_config()\n",
    "\n",
    "v1 = client.CoreV1Api()\n",
    "print(\"Listing pods with their IPs:\")\n",
    "ret = v1.list_pod_for_all_namespaces(watch=False)\n",
    "for i in ret.items:\n",
    "    print(\"%s\\t%s\\t%s\" % (i.status.pod_ip, i.metadata.namespace, i.metadata.name))"
   ]
  },
  {
   "cell_type": "markdown",
   "metadata": {},
   "source": [
    "## Train"
   ]
  },
  {
   "cell_type": "code",
   "execution_count": null,
   "metadata": {},
   "outputs": [],
   "source": []
  },
  {
   "cell_type": "markdown",
   "metadata": {},
   "source": [
    "## Experiment tracking"
   ]
  },
  {
   "cell_type": "code",
   "execution_count": null,
   "metadata": {},
   "outputs": [],
   "source": []
  },
  {
   "cell_type": "markdown",
   "metadata": {},
   "source": [
    "## Optimization"
   ]
  },
  {
   "cell_type": "code",
   "execution_count": null,
   "metadata": {},
   "outputs": [],
   "source": []
  }
 ],
 "metadata": {
  "kernelspec": {
   "display_name": "Python 3.8.9 64-bit ('3.8.9')",
   "language": "python",
   "name": "python3"
  },
  "language_info": {
   "codemirror_mode": {
    "name": "ipython",
    "version": 3
   },
   "file_extension": ".py",
   "mimetype": "text/x-python",
   "name": "python",
   "nbconvert_exporter": "python",
   "pygments_lexer": "ipython3",
   "version": "3.8.9"
  },
  "orig_nbformat": 4,
  "vscode": {
   "interpreter": {
    "hash": "5e93ede21f6ce52bee373e8f330074946f21ad20760661bda2d982a26ae00303"
   }
  }
 },
 "nbformat": 4,
 "nbformat_minor": 2
}
